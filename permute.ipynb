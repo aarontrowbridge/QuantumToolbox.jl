{
 "cells": [
  {
   "cell_type": "code",
   "execution_count": 1,
   "metadata": {},
   "outputs": [],
   "source": [
    "using QuantumToolbox\n",
    "using LinearAlgebra"
   ]
  },
  {
   "cell_type": "code",
   "execution_count": 354,
   "metadata": {},
   "outputs": [
    {
     "data": {
      "text/plain": [
       "true"
      ]
     },
     "metadata": {},
     "output_type": "display_data"
    }
   ],
   "source": [
    "ψ1 = fock(2, 0)\n",
    "ψ2 = fock(2, 1)\n",
    "ψ_12 = tensor(ψ1, ψ2)\n",
    "\n",
    "permute(ψ_12, [2, 1]) ≈ tensor(ψ2, ψ1)"
   ]
  },
  {
   "cell_type": "code",
   "execution_count": 4,
   "metadata": {},
   "outputs": [
    {
     "data": {
      "text/plain": [
       "Quantum Object:   type=Ket   dims=[2, 2]   size=(4,)\n",
       "4-element Vector{ComplexF64}:\n",
       " 0.0 + 0.0im\n",
       " 1.0 + 0.0im\n",
       " 0.0 + 0.0im\n",
       " 0.0 + 0.0im"
      ]
     },
     "metadata": {},
     "output_type": "display_data"
    }
   ],
   "source": [
    "ψ_tensor = tensor(ψ1, ψ2)"
   ]
  },
  {
   "cell_type": "code",
   "execution_count": 9,
   "metadata": {},
   "outputs": [
    {
     "data": {
      "text/plain": [
       "false"
      ]
     },
     "metadata": {},
     "output_type": "display_data"
    }
   ],
   "source": [
    "ψ_tensor isa typeof(Ket)"
   ]
  },
  {
   "cell_type": "code",
   "execution_count": 23,
   "metadata": {},
   "outputs": [
    {
     "data": {
      "text/plain": [
       "Quantum Object:   type=Ket   dims=[2, 2]   size=(4,)\n",
       "4-element Vector{ComplexF64}:\n",
       " 0.0 + 0.0im\n",
       " 1.0 + 0.0im\n",
       " 0.0 + 0.0im\n",
       " 0.0 + 0.0im"
      ]
     },
     "metadata": {},
     "output_type": "display_data"
    }
   ],
   "source": [
    "ψ_tensor"
   ]
  },
  {
   "cell_type": "code",
   "execution_count": 277,
   "metadata": {},
   "outputs": [
    {
     "data": {
      "text/plain": [
       "permute (generic function with 4 methods)"
      ]
     },
     "metadata": {},
     "output_type": "display_data"
    }
   ],
   "source": [
    "function permute(\n",
    "    ket::QuantumObject{<:AbstractArray{T}, KetQuantumObject}, \n",
    "    order::AbstractVector{Int}\n",
    ") where T\n",
    "    if length(order) != length(ket.dims)\n",
    "        throw(ArgumentError(\"The order vector must have the same length as the number of subsystems\"))\n",
    "    end\n",
    "    perm = kron_permutation(order, ket.dims) \n",
    "    return QuantumObject(ket.data[perm], ket.type, ket.dims[order])\n",
    "end"
   ]
  },
  {
   "cell_type": "code",
   "execution_count": 278,
   "metadata": {},
   "outputs": [
    {
     "data": {
      "text/plain": [
       "true"
      ]
     },
     "metadata": {},
     "output_type": "display_data"
    }
   ],
   "source": [
    "permute(ψ_tensor, [2, 1]) == tensor(ψ2, ψ1)"
   ]
  },
  {
   "cell_type": "code",
   "execution_count": 279,
   "metadata": {},
   "outputs": [
    {
     "data": {
      "text/plain": [
       "Quantum Object:   type=Bra   dims=[2]   size=(1, 2)\n",
       "1×2 adjoint(::Vector{ComplexF64}) with eltype ComplexF64:\n",
       " 0.0-0.0im  1.0-0.0im"
      ]
     },
     "metadata": {},
     "output_type": "display_data"
    }
   ],
   "source": [
    "bra1 = ψ1'\n",
    "bra2 = ψ2'"
   ]
  },
  {
   "cell_type": "code",
   "execution_count": 280,
   "metadata": {},
   "outputs": [
    {
     "data": {
      "text/plain": [
       "permute (generic function with 4 methods)"
      ]
     },
     "metadata": {},
     "output_type": "display_data"
    }
   ],
   "source": [
    "function permute(\n",
    "    bra::QuantumObject{<:AbstractArray{T}, BraQuantumObject},\n",
    "    order::AbstractVector{Int}\n",
    ") where T\n",
    "    if length(order) != length(bra.dims)\n",
    "        throw(ArgumentError(\"The order vector must have the same length as the number of subsystems\"))\n",
    "    end\n",
    "    perm = kron_permutation(order, bra.dims) \n",
    "    return QuantumObject(bra.data[:, perm], bra.type, bra.dims[order])\n",
    "end"
   ]
  },
  {
   "cell_type": "code",
   "execution_count": 281,
   "metadata": {},
   "outputs": [
    {
     "data": {
      "text/plain": [
       "true"
      ]
     },
     "metadata": {},
     "output_type": "display_data"
    }
   ],
   "source": [
    "permute(tensor(bra1, bra2), [2, 1]) == tensor(bra2, bra1)"
   ]
  },
  {
   "cell_type": "code",
   "execution_count": 282,
   "metadata": {},
   "outputs": [
    {
     "data": {
      "text/plain": [
       "Quantum Object:   type=Bra   dims=[2, 2]   size=(1, 4)\n",
       "1×4 adjoint(::Vector{ComplexF64}) with eltype ComplexF64:\n",
       " 0.0-0.0im  0.0-0.0im  1.0-0.0im  0.0-0.0im"
      ]
     },
     "metadata": {},
     "output_type": "display_data"
    }
   ],
   "source": [
    "tensor(bra2, bra1)"
   ]
  },
  {
   "cell_type": "code",
   "execution_count": 283,
   "metadata": {},
   "outputs": [
    {
     "data": {
      "text/plain": [
       "Quantum Object:   type=Operator   dims=[3, 2]   size=(6, 6)   ishermitian=true\n",
       "6×6 SparseMatrixCSC{ComplexF64, Int64} with 4 stored entries:\n",
       "     ⋅      1.0+0.0im      ⋅          ⋅          ⋅          ⋅    \n",
       " 1.0+0.0im      ⋅          ⋅          ⋅          ⋅          ⋅    \n",
       "     ⋅          ⋅          ⋅      2.0+0.0im      ⋅          ⋅    \n",
       "     ⋅          ⋅      2.0+0.0im      ⋅          ⋅          ⋅    \n",
       "     ⋅          ⋅          ⋅          ⋅          ⋅          ⋅    \n",
       "     ⋅          ⋅          ⋅          ⋅          ⋅          ⋅    "
      ]
     },
     "metadata": {},
     "output_type": "display_data"
    }
   ],
   "source": [
    "a1 = create(3)\n",
    "n1 = a1' * a1\n",
    "a2 = create(2)\n",
    "H2 = a2 + a2'\n",
    "\n",
    "H = tensor(n1, H2)"
   ]
  },
  {
   "cell_type": "code",
   "execution_count": 323,
   "metadata": {},
   "outputs": [
    {
     "data": {
      "text/plain": [
       "permute (generic function with 4 methods)"
      ]
     },
     "metadata": {},
     "output_type": "display_data"
    }
   ],
   "source": [
    "function permute(\n",
    "    op::QuantumObject{<:AbstractArray{T}, OperatorQuantumObject},\n",
    "    order::AbstractVector{Int}\n",
    ") where T\n",
    "    if length(order) != length(op.dims)\n",
    "        throw(ArgumentError(\"The order vector must have the same length as the number of subsystems\"))\n",
    "    end\n",
    "    perm = kron_permutation(order, op.dims) \n",
    "    display(perm)\n",
    "    return QuantumObject(op.data[perm, perm], op.type, op.dims[order])\n",
    "end"
   ]
  },
  {
   "cell_type": "code",
   "execution_count": 324,
   "metadata": {},
   "outputs": [
    {
     "data": {
      "text/plain": [
       "6-element Vector{Int64}:\n",
       " 1\n",
       " 4\n",
       " 2\n",
       " 5\n",
       " 3\n",
       " 6"
      ]
     },
     "metadata": {},
     "output_type": "display_data"
    }
   ],
   "source": [
    "perm = kron_permutation([2, 1], H.dims)"
   ]
  },
  {
   "cell_type": "code",
   "execution_count": 350,
   "metadata": {},
   "outputs": [
    {
     "data": {
      "text/plain": [
       "120-element Vector{Int64}:\n",
       "   1\n",
       "  21\n",
       "  41\n",
       "   6\n",
       "  26\n",
       "  46\n",
       "  11\n",
       "  31\n",
       "  51\n",
       "  16\n",
       "   ⋮\n",
       "  70\n",
       "  90\n",
       " 110\n",
       "  75\n",
       "  95\n",
       " 115\n",
       "  80\n",
       " 100\n",
       " 120"
      ]
     },
     "metadata": {},
     "output_type": "display_data"
    },
    {
     "data": {
      "text/plain": [
       "true"
      ]
     },
     "metadata": {},
     "output_type": "display_data"
    }
   ],
   "source": [
    "a = Qobj(rand(2, 2))\n",
    "b = Qobj(rand(3, 3))\n",
    "c = Qobj(rand(4, 4))\n",
    "d = Qobj(rand(5, 5))\n",
    "abcd = tensor(a, b, c, d)\n",
    "\n",
    "permute(abcd, [4, 1, 3, 2]) ≈ tensor(d, a, c, b)"
   ]
  },
  {
   "cell_type": "code",
   "execution_count": 353,
   "metadata": {},
   "outputs": [
    {
     "data": {
      "text/plain": [
       "Quantum Object:   type=Ket   dims=[2]   size=(2,)\n",
       "2-element Vector{ComplexF64}:\n",
       " 0.3792816196414961 + 0.44554666660028674im\n",
       " 0.6409020061073456 + 0.5288363139376624im"
      ]
     },
     "metadata": {},
     "output_type": "display_data"
    }
   ],
   "source": [
    "Qobj(rand(ComplexF64, 2))"
   ]
  },
  {
   "cell_type": "code",
   "execution_count": 331,
   "metadata": {},
   "outputs": [
    {
     "data": {
      "text/plain": [
       "120-element Vector{Int64}:\n",
       "   1\n",
       "  25\n",
       "  49\n",
       "  73\n",
       "  97\n",
       "   4\n",
       "  28\n",
       "  52\n",
       "  76\n",
       " 100\n",
       "   ⋮\n",
       "  45\n",
       "  69\n",
       "  93\n",
       " 117\n",
       "  24\n",
       "  48\n",
       "  72\n",
       "  96\n",
       " 120"
      ]
     },
     "metadata": {},
     "output_type": "display_data"
    },
    {
     "data": {
      "text/plain": [
       "120×120 Matrix{Float64}:\n",
       " 0.000633213  0.000715349  0.00429014  …  0.0167165  0.010941    0.0338105\n",
       " 0.00181468   0.00336905   0.00329456     0.0638219  0.0447442   0.0645325\n",
       " 0.0130514    0.0117404    0.00170331     0.169086   0.170315    0.0620632\n",
       " 0.0452572    0.0271081    0.0525747      0.0185038  0.0459066   0.0752163\n",
       " 0.0369378    0.088594     0.0479115      0.107424   0.00714122  0.0133058\n",
       " 0.00287447   0.00105643   0.00216089  …  0.0326697  0.0496667   0.0499315\n",
       " 0.0123864    0.0105873    0.00296738     0.121884   0.0942382   0.0625751\n",
       " 0.00138728   0.00570704   0.00480659     0.04754    0.0686936   0.114477\n",
       " 0.0197235    0.022282     0.042114       0.0417421  0.00267213  0.00825757\n",
       " 0.0565243    0.10494      0.0323408      0.159368   0.0109279   0.0157608\n",
       " ⋮                                     ⋱                         \n",
       " 0.00179229   0.00570726   0.00499174     0.0630344  0.0757977   0.0977763\n",
       " 0.125631     0.0461722    0.0184808      0.0816064  0.0335837   0.0337628\n",
       " 0.0675076    0.0577022    0.0453532      0.0276011  0.0977167   0.0648848\n",
       " 0.036482     0.15008      0.072593       0.106098   0.0120974   0.0201603\n",
       " 0.00428768   0.00224872   0.00186408  …  0.0487316  0.10572     0.0430731\n",
       " 0.0122335    0.0179351    0.00449603     0.12038    0.159642    0.0948106\n",
       " 0.0133538    0.0224445    0.052151       0.0229444  0.0135454   0.0622764\n",
       " 0.0294205    0.0474293    0.0363294      0.0622644  0.0056879   0.00712334\n",
       " 0.0558269    0.177772     0.0490012      0.157401   0.0185122   0.02388"
      ]
     },
     "metadata": {},
     "output_type": "display_data"
    }
   ],
   "source": [
    "permute(abcd, [4, 1, 3, 2]).data"
   ]
  },
  {
   "cell_type": "code",
   "execution_count": 332,
   "metadata": {},
   "outputs": [
    {
     "data": {
      "text/plain": [
       "120×120 Matrix{Float64}:\n",
       " 0.000633213  0.000421051  0.000765854  …  0.0279547   0.0185883   0.0338105\n",
       " 0.000944528  0.000896249  0.000660659     0.0416984   0.0395671   0.0291664\n",
       " 0.000932873  0.00151827   0.001001        0.0411839   0.0670276   0.0441914\n",
       " 0.00195153   0.00129766   0.00236033      0.0265845   0.0176772   0.0321532\n",
       " 0.00291099   0.0027622    0.00203612      0.0396546   0.0376277   0.0277368\n",
       " 0.00287508   0.00467924   0.00308503   …  0.0391653   0.0637422   0.0420253\n",
       " 0.000750018  0.00049872   0.000907127     0.0387685   0.0257789   0.0468895\n",
       " 0.00111876   0.00106158   0.000782527     0.0578289   0.054873    0.040449\n",
       " 0.00110496   0.00179833   0.00118564      0.0571153   0.0929562   0.0612862\n",
       " 0.00139082   0.000924821  0.00168217      0.00960209  0.00638486  0.0116135\n",
       " ⋮                                      ⋱                          \n",
       " 0.0531709    0.0353557    0.0643088       0.0418229   0.0278099   0.0505836\n",
       " 0.0793121    0.0752581    0.0554756       0.0623848   0.0591961   0.0436357\n",
       " 0.0783334    0.127489     0.0840537       0.061615    0.10028     0.0661145\n",
       " 0.0204348    0.013588     0.0247153       0.0609909   0.0405556   0.0737669\n",
       " 0.0304814    0.0289234    0.0213205    …  0.0909767   0.0863266   0.0636346\n",
       " 0.0301053    0.0489969    0.0323037       0.0898542   0.146239    0.0964158\n",
       " 0.037894     0.0251974    0.0458318       0.0151061   0.0100447   0.0182704\n",
       " 0.0565243    0.0536351    0.0395365       0.0225329   0.0213811   0.0157608\n",
       " 0.0558269    0.0908593    0.0599036       0.0222548   0.0362202   0.02388"
      ]
     },
     "metadata": {},
     "output_type": "display_data"
    }
   ],
   "source": [
    "tensor(d, a, c, b).data"
   ]
  },
  {
   "cell_type": "code",
   "execution_count": 330,
   "metadata": {},
   "outputs": [
    {
     "data": {
      "text/plain": [
       "true"
      ]
     },
     "metadata": {},
     "output_type": "display_data"
    }
   ],
   "source": [
    "1 == true"
   ]
  },
  {
   "cell_type": "code",
   "execution_count": 286,
   "metadata": {},
   "outputs": [
    {
     "data": {
      "text/plain": [
       "6×6 SparseMatrixCSC{ComplexF64, Int64} with 4 stored entries:\n",
       "     ⋅          ⋅          ⋅      1.0+0.0im      ⋅          ⋅    \n",
       "     ⋅          ⋅          ⋅          ⋅      2.0+0.0im      ⋅    \n",
       "     ⋅          ⋅          ⋅          ⋅          ⋅          ⋅    \n",
       " 1.0+0.0im      ⋅          ⋅          ⋅          ⋅          ⋅    \n",
       "     ⋅      2.0+0.0im      ⋅          ⋅          ⋅          ⋅    \n",
       "     ⋅          ⋅          ⋅          ⋅          ⋅          ⋅    "
      ]
     },
     "metadata": {},
     "output_type": "display_data"
    }
   ],
   "source": [
    "H.data[perm, perm]"
   ]
  },
  {
   "cell_type": "code",
   "execution_count": 287,
   "metadata": {},
   "outputs": [
    {
     "data": {
      "text/plain": [
       "Quantum Object:   type=Operator   dims=[2, 3]   size=(6, 6)   ishermitian=true\n",
       "6×6 SparseMatrixCSC{ComplexF64, Int64} with 4 stored entries:\n",
       "     ⋅          ⋅          ⋅      1.0+0.0im      ⋅          ⋅    \n",
       "     ⋅          ⋅          ⋅          ⋅      2.0+0.0im      ⋅    \n",
       "     ⋅          ⋅          ⋅          ⋅          ⋅          ⋅    \n",
       " 1.0+0.0im      ⋅          ⋅          ⋅          ⋅          ⋅    \n",
       "     ⋅      2.0+0.0im      ⋅          ⋅          ⋅          ⋅    \n",
       "     ⋅          ⋅          ⋅          ⋅          ⋅          ⋅    "
      ]
     },
     "metadata": {},
     "output_type": "display_data"
    }
   ],
   "source": [
    "permute(H, [2, 1])"
   ]
  },
  {
   "cell_type": "code",
   "execution_count": 288,
   "metadata": {},
   "outputs": [
    {
     "data": {
      "text/plain": [
       "Quantum Object:   type=Operator   dims=[3, 2]   size=(6, 6)   ishermitian=true\n",
       "6×6 SparseMatrixCSC{ComplexF64, Int64} with 4 stored entries:\n",
       "     ⋅      1.0+0.0im      ⋅          ⋅          ⋅          ⋅    \n",
       " 1.0+0.0im      ⋅          ⋅          ⋅          ⋅          ⋅    \n",
       "     ⋅          ⋅          ⋅      2.0+0.0im      ⋅          ⋅    \n",
       "     ⋅          ⋅      2.0+0.0im      ⋅          ⋅          ⋅    \n",
       "     ⋅          ⋅          ⋅          ⋅          ⋅          ⋅    \n",
       "     ⋅          ⋅          ⋅          ⋅          ⋅          ⋅    "
      ]
     },
     "metadata": {},
     "output_type": "display_data"
    }
   ],
   "source": [
    "H"
   ]
  },
  {
   "cell_type": "code",
   "execution_count": 289,
   "metadata": {},
   "outputs": [
    {
     "data": {
      "text/plain": [
       "true"
      ]
     },
     "metadata": {},
     "output_type": "display_data"
    }
   ],
   "source": [
    "tensor(H2, n1) == permute(H, [2, 1])"
   ]
  },
  {
   "cell_type": "code",
   "execution_count": 31,
   "metadata": {},
   "outputs": [
    {
     "data": {
      "text/plain": [
       "4-element Vector{String}:\n",
       " \"ac\"\n",
       " \"ad\"\n",
       " \"bc\"\n",
       " \"bd\""
      ]
     },
     "metadata": {},
     "output_type": "display_data"
    }
   ],
   "source": [
    "x = [\"a\", \"b\"]\n",
    "y = [\"c\", \"d\"]\n",
    "k = kron(x, y)"
   ]
  },
  {
   "cell_type": "code",
   "execution_count": 321,
   "metadata": {},
   "outputs": [
    {
     "data": {
      "text/plain": [
       "kron_rep (generic function with 2 methods)"
      ]
     },
     "metadata": {},
     "output_type": "display_data"
    }
   ],
   "source": [
    "function kron_rep(\n",
    "    dims; \n",
    "    labels=\"abcdefghijklmnopqrstuvwxyz\"[1:length(dims)]\n",
    ")\n",
    "\n",
    "    # create string representations of the subsystems \n",
    "    # and store them in the order of the permutation\n",
    "    xs = [] \n",
    "    for i = 1:length(dims)\n",
    "        x_i = labels[i] .* string.(1:dims[i])\n",
    "        if i != length(dims) \n",
    "            x_i .*= \"_\"\n",
    "        end\n",
    "        push!(xs, x_i)\n",
    "    end\n",
    "\n",
    "    return kron(xs...) \n",
    "end"
   ]
  },
  {
   "cell_type": "code",
   "execution_count": 340,
   "metadata": {},
   "outputs": [
    {
     "data": {
      "text/plain": [
       "kron_permutation (generic function with 2 methods)"
      ]
     },
     "metadata": {},
     "output_type": "display_data"
    }
   ],
   "source": [
    "function kron_permutation(perm::Vector{Int}, dims::Vector{Int})\n",
    "    @assert length(perm) == length(dims) \"The permutation must have the same length as the number of subsystems\"\n",
    "    @assert sort(perm) == 1:length(dims) \"The permutation must be a permutation of the subsystems\"\n",
    "\n",
    "    # get representations of the base kron product and the permuted one \n",
    "    kr_permuted = kron_rep(dims[perm]; labels=\"abcdefghijklmnopqrstuvwxyz\"[perm])\n",
    "    kr_base = kron_rep(dims) \n",
    "\n",
    "    # commute scalar values in each element\n",
    "    kr_permuted_commuted = [] \n",
    "    for i = 1:length(kr_permuted)\n",
    "        e = split(kr_permuted[i], \"_\")\n",
    "        sort!(e, by = x -> x[1])\n",
    "        e = join(e, \"_\")\n",
    "        push!(kr_permuted_commuted, e)\n",
    "    end\n",
    "\n",
    "    # find the permutation that maps the unpermuted kron product to the permuted one\n",
    "    kr_permutation = [\n",
    "        findfirst(x -> x == kr_permuted_i, kr_base) \n",
    "            for kr_permuted_i ∈ kr_permuted_commuted\n",
    "    ]\n",
    "\n",
    "    return kr_permutation\n",
    "end\n"
   ]
  },
  {
   "cell_type": "code",
   "execution_count": 341,
   "metadata": {},
   "outputs": [
    {
     "data": {
      "text/plain": [
       "6-element Vector{Int64}:\n",
       " 1\n",
       " 4\n",
       " 2\n",
       " 5\n",
       " 3\n",
       " 6"
      ]
     },
     "metadata": {},
     "output_type": "display_data"
    }
   ],
   "source": [
    "x = [\"a\", \"b\"]\n",
    "y = [\"c\", \"d\", \"e\"]\n",
    "\n",
    "perm = kron_permutation([2, 1], [2, 3])\n",
    "\n"
   ]
  },
  {
   "cell_type": "code",
   "execution_count": 342,
   "metadata": {},
   "outputs": [
    {
     "data": {
      "text/plain": [
       "false"
      ]
     },
     "metadata": {},
     "output_type": "display_data"
    }
   ],
   "source": [
    "kron(y, x)[perm] == kron(x, y)"
   ]
  },
  {
   "cell_type": "code",
   "execution_count": 343,
   "metadata": {},
   "outputs": [
    {
     "data": {
      "text/plain": [
       "6-element Vector{String}:\n",
       " \"ac\"\n",
       " \"ad\"\n",
       " \"ae\"\n",
       " \"bc\"\n",
       " \"bd\"\n",
       " \"be\""
      ]
     },
     "metadata": {},
     "output_type": "display_data"
    }
   ],
   "source": [
    "kron(x, y)"
   ]
  },
  {
   "cell_type": "code",
   "execution_count": 344,
   "metadata": {},
   "outputs": [
    {
     "data": {
      "text/plain": [
       "6-element Vector{String}:\n",
       " \"ca\"\n",
       " \"cb\"\n",
       " \"da\"\n",
       " \"db\"\n",
       " \"ea\"\n",
       " \"eb\""
      ]
     },
     "metadata": {},
     "output_type": "display_data"
    }
   ],
   "source": [
    "kron(y, x)"
   ]
  },
  {
   "cell_type": "code",
   "execution_count": 345,
   "metadata": {},
   "outputs": [
    {
     "data": {
      "text/plain": [
       "6-element Vector{String}:\n",
       " \"ca\"\n",
       " \"da\"\n",
       " \"ea\"\n",
       " \"cb\"\n",
       " \"db\"\n",
       " \"eb\""
      ]
     },
     "metadata": {},
     "output_type": "display_data"
    }
   ],
   "source": [
    "perm = kron_permutation([2, 1], [3, 2])\n",
    "kron(y, x)[perm]"
   ]
  },
  {
   "cell_type": "code",
   "execution_count": 303,
   "metadata": {},
   "outputs": [
    {
     "data": {
      "text/plain": [
       "6-element Vector{Int64}:\n",
       " 1\n",
       " 4\n",
       " 2\n",
       " 5\n",
       " 3\n",
       " 6"
      ]
     },
     "metadata": {},
     "output_type": "display_data"
    }
   ],
   "source": [
    "perm"
   ]
  },
  {
   "cell_type": "code",
   "execution_count": 346,
   "metadata": {},
   "outputs": [
    {
     "data": {
      "text/plain": [
       "true"
      ]
     },
     "metadata": {},
     "output_type": "display_data"
    }
   ],
   "source": [
    "\n",
    "x = [1, 2]\n",
    "y = [3, 4, 5]\n",
    "kron(x, y) == kron(y, x)[kron_permutation([2, 1], [3, 2])]"
   ]
  },
  {
   "cell_type": "code",
   "execution_count": 347,
   "metadata": {},
   "outputs": [
    {
     "data": {
      "text/plain": [
       "true"
      ]
     },
     "metadata": {},
     "output_type": "display_data"
    }
   ],
   "source": [
    "X = [1 2; 3 4]\n",
    "Y = [5 6 7; 7 8 9; 10 11 12]\n",
    "kron(X, Y) == kron(Y, X)[kron_permutation([2, 1], [3, 2]), kron_permutation([2, 1], [3, 2])]"
   ]
  },
  {
   "cell_type": "code",
   "execution_count": 266,
   "metadata": {},
   "outputs": [
    {
     "data": {
      "text/plain": [
       "4×4 Matrix{Int64}:\n",
       "  5   6  10  12\n",
       "  7   8  14  16\n",
       " 15  18  20  24\n",
       " 21  24  28  32"
      ]
     },
     "metadata": {},
     "output_type": "display_data"
    }
   ],
   "source": [
    "kron(X, Y)"
   ]
  },
  {
   "cell_type": "code",
   "execution_count": 267,
   "metadata": {},
   "outputs": [
    {
     "data": {
      "text/plain": [
       "4×4 Matrix{String}:\n",
       " \"ae\"  \"af\"  \"be\"  \"bf\"\n",
       " \"ag\"  \"ah\"  \"bg\"  \"bh\"\n",
       " \"ce\"  \"cf\"  \"de\"  \"df\"\n",
       " \"cg\"  \"ch\"  \"dg\"  \"dh\""
      ]
     },
     "metadata": {},
     "output_type": "display_data"
    }
   ],
   "source": [
    "X = [\"a\" \"b\"; \"c\" \"d\"]\n",
    "# Y = [\"e\" \"f\" \"g\"; \"h\" \"i\" \"j\"; \"k\" \"l\" \"m\"]\n",
    "Y = [\"e\" \"f\"; \"g\" \"h\"]\n",
    "kron(X,Y)"
   ]
  },
  {
   "cell_type": "code",
   "execution_count": 268,
   "metadata": {},
   "outputs": [
    {
     "data": {
      "text/plain": [
       "4×4 Matrix{String}:\n",
       " \"ea\"  \"eb\"  \"fa\"  \"fb\"\n",
       " \"ec\"  \"ed\"  \"fc\"  \"fd\"\n",
       " \"ga\"  \"gb\"  \"ha\"  \"hb\"\n",
       " \"gc\"  \"gd\"  \"hc\"  \"hd\""
      ]
     },
     "metadata": {},
     "output_type": "display_data"
    }
   ],
   "source": [
    "kron(Y, X)"
   ]
  },
  {
   "cell_type": "code",
   "execution_count": 269,
   "metadata": {},
   "outputs": [
    {
     "data": {
      "text/plain": [
       "4×4 Matrix{String}:\n",
       " \"ae\"  \"be\"  \"af\"  \"bf\"\n",
       " \"ce\"  \"de\"  \"cf\"  \"df\"\n",
       " \"ag\"  \"bg\"  \"ah\"  \"bh\"\n",
       " \"cg\"  \"dg\"  \"ch\"  \"dh\""
      ]
     },
     "metadata": {},
     "output_type": "display_data"
    }
   ],
   "source": [
    "perm = kron_permutation([2, 1], [2, 2])\n",
    "kron(X, Y)[perm, perm]"
   ]
  },
  {
   "cell_type": "code",
   "execution_count": 174,
   "metadata": {},
   "outputs": [
    {
     "data": {
      "text/plain": [
       "3×3 Matrix{String}:\n",
       " \"e\"  \"f\"  \"g\"\n",
       " \"h\"  \"i\"  \"j\"\n",
       " \"k\"  \"l\"  \"m\""
      ]
     },
     "metadata": {},
     "output_type": "display_data"
    }
   ],
   "source": [
    "Y"
   ]
  },
  {
   "cell_type": "code",
   "execution_count": 179,
   "metadata": {},
   "outputs": [
    {
     "data": {
      "text/plain": [
       "6-element Vector{Int64}:\n",
       " 1\n",
       " 3\n",
       " 5\n",
       " 2\n",
       " 4\n",
       " 6"
      ]
     },
     "metadata": {},
     "output_type": "display_data"
    }
   ],
   "source": [
    "perm"
   ]
  }
 ],
 "metadata": {
  "kernelspec": {
   "display_name": "Julia 1.10.3",
   "language": "julia",
   "name": "julia-1.10"
  },
  "language_info": {
   "file_extension": ".jl",
   "mimetype": "application/julia",
   "name": "julia",
   "version": "1.10.3"
  }
 },
 "nbformat": 4,
 "nbformat_minor": 2
}
