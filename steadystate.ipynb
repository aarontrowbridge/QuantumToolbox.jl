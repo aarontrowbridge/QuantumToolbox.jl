{
 "cells": [
  {
   "cell_type": "code",
   "execution_count": 3,
   "metadata": {},
   "outputs": [],
   "source": [
    "using Revise\n",
    "using QuantumToolbox"
   ]
  },
  {
   "cell_type": "code",
   "execution_count": 13,
   "metadata": {},
   "outputs": [
    {
     "data": {
      "text/plain": [
       "Quantum Object:   type=SuperOperator   dims=[10]   size=(100, 100)\n",
       "100×100 SparseMatrixCSC{ComplexF64, Int64} with 540 stored entries:\n",
       "⎡⠺⣦⡀⠀⠙⢦⡀⠀⠀⠀⠀⠀⠀⠀⠀⠀⠀⠀⠀⠀⠀⠀⠀⠀⠀⠀⠀⠀⠀⠀⠀⠀⠀⠀⠀⠀⠀⠀⠀⠀⎤\n",
       "⎢⠀⠈⠻⣦⠀⠀⠙⢦⠀⠀⠀⠀⠀⠀⠀⠀⠀⠀⠀⠀⠀⠀⠀⠀⠀⠀⠀⠀⠀⠀⠀⠀⠀⠀⠀⠀⠀⠀⠀⠀⎥\n",
       "⎢⠑⢄⠀⠀⠻⣦⡀⠀⠙⢦⡀⠀⠀⠀⠀⠀⠀⠀⠀⠀⠀⠀⠀⠀⠀⠀⠀⠀⠀⠀⠀⠀⠀⠀⠀⠀⠀⠀⠀⠀⎥\n",
       "⎢⠀⠀⠑⢄⠀⠈⠻⣦⠀⠀⠙⢦⠀⠀⠀⠀⠀⠀⠀⠀⠀⠀⠀⠀⠀⠀⠀⠀⠀⠀⠀⠀⠀⠀⠀⠀⠀⠀⠀⠀⎥\n",
       "⎢⠀⠀⠀⠀⠑⢄⠀⠀⠻⣦⡀⠀⠙⢦⡀⠀⠀⠀⠀⠀⠀⠀⠀⠀⠀⠀⠀⠀⠀⠀⠀⠀⠀⠀⠀⠀⠀⠀⠀⠀⎥\n",
       "⎢⠀⠀⠀⠀⠀⠀⠑⢄⠀⠈⠻⣦⠀⠀⠙⢦⠀⠀⠀⠀⠀⠀⠀⠀⠀⠀⠀⠀⠀⠀⠀⠀⠀⠀⠀⠀⠀⠀⠀⠀⎥\n",
       "⎢⠀⠀⠀⠀⠀⠀⠀⠀⠑⢄⠀⠀⠻⣦⡀⠀⠙⢦⡀⠀⠀⠀⠀⠀⠀⠀⠀⠀⠀⠀⠀⠀⠀⠀⠀⠀⠀⠀⠀⠀⎥\n",
       "⎢⠀⠀⠀⠀⠀⠀⠀⠀⠀⠀⠑⢄⠀⠈⠻⣦⠀⠀⠙⢦⠀⠀⠀⠀⠀⠀⠀⠀⠀⠀⠀⠀⠀⠀⠀⠀⠀⠀⠀⠀⎥\n",
       "⎢⠀⠀⠀⠀⠀⠀⠀⠀⠀⠀⠀⠀⠑⢄⠀⠀⠻⣦⡀⠀⠹⢤⡀⠀⠀⠀⠀⠀⠀⠀⠀⠀⠀⠀⠀⠀⠀⠀⠀⠀⎥\n",
       "⎢⠀⠀⠀⠀⠀⠀⠀⠀⠀⠀⠀⠀⠀⠀⠑⢄⠀⠈⠻⣦⠀⠀⠹⢤⠀⠀⠀⠀⠀⠀⠀⠀⠀⠀⠀⠀⠀⠀⠀⠀⎥\n",
       "⎢⠀⠀⠀⠀⠀⠀⠀⠀⠀⠀⠀⠀⠀⠀⠀⠀⠑⢆⠀⠀⠻⣦⡀⠀⠙⢦⡀⠀⠀⠀⠀⠀⠀⠀⠀⠀⠀⠀⠀⠀⎥\n",
       "⎢⠀⠀⠀⠀⠀⠀⠀⠀⠀⠀⠀⠀⠀⠀⠀⠀⠀⠀⠑⢆⠀⠈⠻⣦⠀⠀⠙⢦⠀⠀⠀⠀⠀⠀⠀⠀⠀⠀⠀⠀⎥\n",
       "⎢⠀⠀⠀⠀⠀⠀⠀⠀⠀⠀⠀⠀⠀⠀⠀⠀⠀⠀⠀⠀⠑⢄⠀⠀⠻⣦⡀⠀⠙⢦⡀⠀⠀⠀⠀⠀⠀⠀⠀⠀⎥\n",
       "⎢⠀⠀⠀⠀⠀⠀⠀⠀⠀⠀⠀⠀⠀⠀⠀⠀⠀⠀⠀⠀⠀⠀⠑⢄⠀⠈⠻⣦⠀⠀⠙⢦⠀⠀⠀⠀⠀⠀⠀⠀⎥\n",
       "⎢⠀⠀⠀⠀⠀⠀⠀⠀⠀⠀⠀⠀⠀⠀⠀⠀⠀⠀⠀⠀⠀⠀⠀⠀⠑⢄⠀⠀⠻⣦⡀⠀⠙⢦⡀⠀⠀⠀⠀⠀⎥\n",
       "⎢⠀⠀⠀⠀⠀⠀⠀⠀⠀⠀⠀⠀⠀⠀⠀⠀⠀⠀⠀⠀⠀⠀⠀⠀⠀⠀⠑⢄⠀⠈⠻⣦⠀⠀⠙⢦⠀⠀⠀⠀⎥\n",
       "⎢⠀⠀⠀⠀⠀⠀⠀⠀⠀⠀⠀⠀⠀⠀⠀⠀⠀⠀⠀⠀⠀⠀⠀⠀⠀⠀⠀⠀⠑⢄⠀⠀⠻⣦⡀⠀⠙⢦⡀⠀⎥\n",
       "⎢⠀⠀⠀⠀⠀⠀⠀⠀⠀⠀⠀⠀⠀⠀⠀⠀⠀⠀⠀⠀⠀⠀⠀⠀⠀⠀⠀⠀⠀⠀⠑⢄⠀⠈⠻⣦⠀⠀⠙⢦⎥\n",
       "⎢⠀⠀⠀⠀⠀⠀⠀⠀⠀⠀⠀⠀⠀⠀⠀⠀⠀⠀⠀⠀⠀⠀⠀⠀⠀⠀⠀⠀⠀⠀⠀⠀⠑⢄⠀⠀⠻⣦⡀⠀⎥\n",
       "⎣⠀⠀⠀⠀⠀⠀⠀⠀⠀⠀⠀⠀⠀⠀⠀⠀⠀⠀⠀⠀⠀⠀⠀⠀⠀⠀⠀⠀⠀⠀⠀⠀⠀⠀⠑⢄⠀⠈⠻⣦⎦"
      ]
     },
     "metadata": {},
     "output_type": "display_data"
    }
   ],
   "source": [
    "    N = 10\n",
    "    a = destroy(N)\n",
    "    a_d = a'\n",
    "    H = a_d * a + 0.1 * (a + a_d)\n",
    "    c_ops = [sqrt(0.1) * a]\n",
    "    e_ops = [a_d * a]\n",
    "    psi0 = fock(N, 3)\n",
    "    t_l = LinRange(0, 200, 1000)\n",
    "    L = liouvillian(H, c_ops)"
   ]
  },
  {
   "cell_type": "code",
   "execution_count": 21,
   "metadata": {},
   "outputs": [
    {
     "ename": "MethodError",
     "evalue": "MethodError: no method matching (SteadyStateProblem{true, SciMLBase.FullSpecialize})(::ODEFunction{true, SciMLBase.FullSpecialize, var\"#15#16\", UniformScaling{Bool}, Nothing, Nothing, Nothing, Nothing, Nothing, Nothing, Nothing, Nothing, Nothing, Nothing, Nothing, typeof(SciMLBase.DEFAULT_OBSERVED), Nothing, Nothing, Nothing, Nothing}, ::Vector{ComplexF64}, ::@NamedTuple{L::SparseMatrixCSC{ComplexF64, Int64}})",
     "output_type": "error",
     "traceback": [
      "MethodError: no method matching (SteadyStateProblem{true, SciMLBase.FullSpecialize})(::ODEFunction{true, SciMLBase.FullSpecialize, var\"#15#16\", UniformScaling{Bool}, Nothing, Nothing, Nothing, Nothing, Nothing, Nothing, Nothing, Nothing, Nothing, Nothing, Nothing, typeof(SciMLBase.DEFAULT_OBSERVED), Nothing, Nothing, Nothing, Nothing}, ::Vector{ComplexF64}, ::@NamedTuple{L::SparseMatrixCSC{ComplexF64, Int64}})\n",
      "\n",
      "Stacktrace:\n",
      " [1] top-level scope\n",
      "   @ ~/oss-contributions/QuantumToolbox.jl/steadystate.ipynb:12"
     ]
    }
   ],
   "source": [
    "ρ = ket2dm(psi0)\n",
    "\n",
    "mesolve_ti_dudt!(du, u, p, t) = mul!(du, p.L, u)\n",
    "\n",
    "_ρ₀ = mat2vec(ρ.data)\n",
    "_L = L.data\n",
    "\n",
    "p = (\n",
    "    L = _L,\n",
    ")\n",
    "\n",
    "prob = SteadyStateProblem{true, SciMLBase.FullSpecialize}(f!, _ρ₀, p)"
   ]
  },
  {
   "cell_type": "code",
   "execution_count": 15,
   "metadata": {},
   "outputs": [
    {
     "name": "stdout",
     "output_type": "stream",
     "text": [
      "Progress: [==============================] 100.0% --- Elapsed Time: 0h 00m 01s (ETA: 0h 00m 00s)\n"
     ]
    },
    {
     "data": {
      "text/plain": [
       "Quantum Object:   type=Operator   dims=[10]   size=(10, 10)   ishermitian=false\n",
       "10×10 Matrix{ComplexF64}:\n",
       "     0.990075+2.99592e-18im  …  -1.46201e-12+7.04913e-13im\n",
       "   -0.0987586-0.004934im         1.49347e-13-6.30286e-14im\n",
       "   0.00694835+0.00069602im      -1.07561e-14+3.91934e-15im\n",
       " -0.000398152-6.00755e-5im        6.3072e-16-1.94768e-16im\n",
       "   1.97079e-5+3.98831e-6im      -3.19422e-17+8.14237e-18im\n",
       "  -8.70258e-7-2.21837e-7im   …   1.44306e-18-2.92035e-19im\n",
       "   3.49875e-8+1.08042e-8im      -5.93592e-20+8.95647e-21im\n",
       "  -1.29873e-9-4.73236e-10im      2.25481e-21-2.25866e-22im\n",
       "  4.49677e-11+1.89776e-11im     -7.99175e-23+3.99271e-24im\n",
       " -1.46201e-12-7.04913e-13im      2.66387e-24+2.01844e-33im"
      ]
     },
     "metadata": {},
     "output_type": "display_data"
    }
   ],
   "source": [
    "sol_me = mesolve(H, psi0, t_l, c_ops, e_ops = e_ops, progress_bar = true)\n",
    "rho_me = sol_me.states[end]"
   ]
  },
  {
   "cell_type": "code",
   "execution_count": 17,
   "metadata": {},
   "outputs": [
    {
     "name": "stdout",
     "output_type": "stream",
     "text": [
      "Progress: [==============================] 100.0% --- Elapsed Time: 0h 00m 00s (ETA: 0h 00m 00s)\n"
     ]
    },
    {
     "data": {
      "text/plain": [
       "Quantum Object:   type=Operator   dims=[10]   size=(10, 10)   ishermitian=false\n",
       "10×10 Matrix{ComplexF64}:\n",
       "     0.990075+2.99592e-18im  …  -1.46201e-12+7.04913e-13im\n",
       "   -0.0987586-0.004934im         1.49347e-13-6.30286e-14im\n",
       "   0.00694835+0.00069602im      -1.07561e-14+3.91934e-15im\n",
       " -0.000398152-6.00755e-5im        6.3072e-16-1.94768e-16im\n",
       "   1.97079e-5+3.98831e-6im      -3.19422e-17+8.14237e-18im\n",
       "  -8.70258e-7-2.21837e-7im   …   1.44306e-18-2.92035e-19im\n",
       "   3.49875e-8+1.08042e-8im      -5.93592e-20+8.95647e-21im\n",
       "  -1.29873e-9-4.73236e-10im      2.25481e-21-2.25866e-22im\n",
       "  4.49677e-11+1.89776e-11im     -7.99175e-23+3.99271e-24im\n",
       " -1.46201e-12-7.04913e-13im      2.66387e-24+2.01844e-33im"
      ]
     },
     "metadata": {},
     "output_type": "display_data"
    }
   ],
   "source": [
    "sol_me_2 = mesolve(L, ket2dm(psi0), t_l, e_ops = e_ops, progress_bar = true)\n",
    "sol_me_2.states[end]"
   ]
  },
  {
   "cell_type": "code",
   "execution_count": 6,
   "metadata": {},
   "outputs": [
    {
     "data": {
      "text/plain": [
       "Quantum Object:   type=Operator   dims=[10]   size=(10, 10)   ishermitian=true\n",
       "10×10 Matrix{ComplexF64}:\n",
       "     0.990075+0.0im          …  -1.46205e-12+7.05575e-13im\n",
       "   -0.0987606-0.00493803im       1.49359e-13-6.30895e-14im\n",
       "    0.0069486+0.000696601im     -1.07575e-14+3.92323e-15im\n",
       " -0.000398171-6.01268e-5im        6.3083e-16-1.94966e-16im\n",
       "    1.9709e-5+3.99179e-6im      -3.19491e-17+8.15086e-18im\n",
       "   -8.7031e-7-2.22034e-7im   …   1.44342e-18-2.92346e-19im\n",
       "   3.49896e-8+1.0814e-8im       -5.93758e-20+8.9662e-21im\n",
       "   -1.2988e-9-4.73669e-10im       2.2555e-21-2.26115e-22im\n",
       "  4.49696e-11+1.89952e-11im     -7.99438e-23+3.99719e-24im\n",
       " -1.46205e-12-7.05575e-13im       2.6648e-24+0.0im"
      ]
     },
     "metadata": {},
     "output_type": "display_data"
    }
   ],
   "source": [
    "solver = SteadyStateDirectSolver()\n",
    "ρ_ss = steadystate(H, c_ops, solver = solver)"
   ]
  }
 ],
 "metadata": {
  "kernelspec": {
   "display_name": "Julia 1.10.3",
   "language": "julia",
   "name": "julia-1.10"
  },
  "language_info": {
   "file_extension": ".jl",
   "mimetype": "application/julia",
   "name": "julia",
   "version": "1.10.3"
  }
 },
 "nbformat": 4,
 "nbformat_minor": 2
}
